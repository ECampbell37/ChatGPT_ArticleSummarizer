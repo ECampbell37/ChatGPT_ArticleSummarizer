{
 "cells": [
  {
   "cell_type": "markdown",
   "id": "84d9ba13",
   "metadata": {},
   "source": [
    "# ChatGPT Article Summarizer:\n",
    "## This program takes as input a PDF of text (or can take copy-paste), and outputs a summary. This can be useful for understanding text you don't have the time to read in full. "
   ]
  },
  {
   "cell_type": "markdown",
   "id": "fcf6db59",
   "metadata": {},
   "source": [
    "# Outline\n",
    "## Step 1: Seperate text into managable sections (small enough for ChatGPT to analyze) <br> Step 2: Calculate cost of computation (cost per token * tokens)<br> Step 3: Give sections to ChatGPT one by one and give summary prompt<br> Step 4: Feed its own summaries to it and create a general summary"
   ]
  },
  {
   "cell_type": "markdown",
   "id": "3904ffda",
   "metadata": {},
   "source": [
    "# Start of Code"
   ]
  },
  {
   "cell_type": "markdown",
   "id": "9e3a0bd5",
   "metadata": {},
   "source": [
    "## Import necessary libraries, functions, variables, and files"
   ]
  },
  {
   "cell_type": "code",
   "execution_count": 1,
   "id": "8a51dce0",
   "metadata": {},
   "outputs": [],
   "source": [
    "#Import Libraries, variables, and files\n",
    "import PyPDF2\n",
    "import os\n",
    "import openai\n",
    "import tiktoken\n",
    "openai.api_key = os.getenv(\"OPENAI_API_KEY\")\n",
    "\n",
    "#This is where you put the pdf file (example here is background info for an author)\n",
    "myPDF = 'SportHazeReading.pdf'\n"
   ]
  },
  {
   "cell_type": "markdown",
   "id": "af0f4500",
   "metadata": {},
   "source": [
    "### This function is what we will use to access ChatGPT (3.5 turbo model)"
   ]
  },
  {
   "cell_type": "code",
   "execution_count": 2,
   "id": "7b5342a1",
   "metadata": {},
   "outputs": [],
   "source": [
    "#This function is what we will use to use ChatGPT (3.5 turbo model)\n",
    "def get_completion(prompt, model=\"gpt-3.5-turbo\"): \n",
    "    messages = [{\"role\": \"user\", \"content\": prompt}]\n",
    "    response = openai.ChatCompletion.create(\n",
    "        model=model,\n",
    "        messages=messages,\n",
    "        temperature=0, # this is the degree of randomness of the model's output\n",
    "    )\n",
    "    return response.choices[0].message[\"content\"]"
   ]
  },
  {
   "cell_type": "markdown",
   "id": "e12919ff",
   "metadata": {},
   "source": [
    "### Extracts text from pdf"
   ]
  },
  {
   "cell_type": "code",
   "execution_count": 3,
   "id": "66cbfcd2",
   "metadata": {},
   "outputs": [],
   "source": [
    "#This function takes a page from a pdf, extracts the text, and puts it in a string variable\n",
    "#It then repeats this process for as many pages in the pdf\n",
    "def extract_text_from_pdf(pdf_path):\n",
    "    with open(pdf_path, 'rb') as file:\n",
    "        pdf_reader = PyPDF2.PdfReader(file)\n",
    "        pdf_text = \"\"\n",
    "        for page_num in range(len(pdf_reader.pages)):\n",
    "            page = pdf_reader.pages[page_num]\n",
    "            pdf_text += page.extract_text()\n",
    "    return pdf_text"
   ]
  },
  {
   "cell_type": "markdown",
   "id": "2eef28fb",
   "metadata": {},
   "source": [
    "### Separates text into manageable sections"
   ]
  },
  {
   "cell_type": "code",
   "execution_count": 4,
   "id": "52051d5b",
   "metadata": {},
   "outputs": [],
   "source": [
    "#This library and function are used to break our text into managable sections (by sentence count)\n",
    "import nltk\n",
    "\n",
    "def break_into_paragraphs(text, sentences_per_group=8):\n",
    "    # Tokenize text into sentences\n",
    "    sentences = nltk.sent_tokenize(text)\n",
    "    \n",
    "    # Group sentences into paragraphs/sections based on the specified number of sentences per group\n",
    "    groups = [sentences[i:i+sentences_per_group] for i in range(0, len(sentences), sentences_per_group)]\n",
    "    \n",
    "    # Join sentences within each group to form paragraphs\n",
    "    paragraphs = [' '.join(sentence_group) for sentence_group in groups]\n",
    "    return paragraphs\n"
   ]
  },
  {
   "cell_type": "markdown",
   "id": "382b3655",
   "metadata": {},
   "source": [
    "### Call our functions for our pdf file and display result (limited display for longer text)"
   ]
  },
  {
   "cell_type": "code",
   "execution_count": 5,
   "id": "5776b4a8",
   "metadata": {},
   "outputs": [
    {
     "name": "stdout",
     "output_type": "stream",
     "text": [
      "Number of sections: 78\n",
      "\n",
      "Group 1:\n",
      "© C anadian  Journal  of SoCiology /CahierS  CanadienS  de SoCiologie  36(3) 2011 199Through  The LiminaL : a Compara Tive \n",
      "anaL ysis of CommuniT as and riTes of \n",
      "passage  in spor T hazing  and  \n",
      "iniTia Tions\n",
      "Jay Johnson\n",
      "Abstract. Hazing rituals and ceremonies have been described in traditional, \n",
      "historical world cultures, junior and high school, the military, private schools, paramilitary organizations, fraternities and sororities, as well as sport (Allan \n",
      "and Madden 2008; Bryshun and Young 1999; Campo, Poulos, and Sipple \n",
      "2005; Fields, Collins, and Comstock 2010; Johnson 2000, 2009; Linhares de Albuquerque and Paes-Machado 2004; Nuwer 1999; Winslow 1999; Zacharda 2009). Student athletes often endure hazing practices with 80% of NCAA ath-\n",
      "letes reporting some form of initiation (Hoover 1999) in exchange for member -\n",
      "ship affiliation. This qualitative study compared the similarities and deviations \n",
      "between contemporary initiations and historical traditions defining both the im-portance of cultures to establish “Rites of Passage” membership gateways and metamorphoses from nonmember to group. Results indicated that despite often \n",
      "abusive hazing ceremonies in sport, marked by hierarchies, power imbalances, \n",
      "and, at times, criminal behaviour, there still exists a demand for an entry rit-ual by the rookie contingency to mark their membership and identity within the team structure. Hazing traditions continue in the belief in what Turner (1986) \n",
      "describes as Communitas, despite indications from participants that hazing frac-\n",
      "tured relationships on the team — a marked contradiction of Communitas. Key Words: sport, hazing, communitas, rites of passage, abuse, cohesion. Résumé.\n",
      "\n",
      "Group 2:\n",
      "Les rituels et les cérémonies de bizutage ont été décris dans les cultures \n",
      "traditionnelles et historiques à travers le monde, dans les écoles secondaires, \n",
      "l’armée, les écoles privées, les organisations paramilitaires, les fraternités, les as-sociations étudiantes, ainsi que dans les sports  (Allan et Madden 2008; Bryshun et Young 1999; Campo Poulos et Sipple 2005; Fields Collins et Comstock 2010; \n",
      "Johnson 2000, 2009; Linhares de Albuquerque et Paes-Machado 2004; Nuwer \n",
      "1999; Winslow 1999; Zacharda 2009). Les athlètes étudiants endurent sou-vent des pratiques de bizutage, 80% des athlètes de la NCAA ont signalé avoir été initié d’une certaine façon (Hoover 1999) en échange d’une adhésion à un 200 © C anadian  Journal  of SoCiology /CahierS  CanadienS  de SoCiologie  36(3) 2011\n",
      "groupe. Cette étude qualitative à comparé les ressemblances et les déviations \n",
      "entre les initiations contemporaines et les traditions historiques qui définissent l’importance des cultures pour établir les « Rites de Passages» lors de l’adhé -\n",
      "sion à un groupe et les métamorphoses du non-membre au groupe. Les résultats indiquent que malgré les fréquentes cérémonies de bizutage abusives dans les sports, marquées par des hiérarchies, des déséquilibres du pouvoir, et parfois par des comportements criminels, il existe toujours une demande de rituel d’entrée \n",
      "chez les nouvelles recrues afin de marquer leur admission et leur identité au \n",
      "sein de l’équipe. Les traditions de bizutage continuent grâce à la conviction de ce que Turner (1986) décrit comme Communitas, pourtant malgré cette raison mentionnée pour continuer à initier les nouveaux membres, les participants ont indiqué que le bizutage brise les relations dans les équipes, une contre-indication \n",
      "marquée de l’expression des Communitas. Mots clés : sports, bizutage, communitas, rites de passage, abus, cohésion. Canadian and US athletic hazing has recently received high profile \n",
      "media, public, and institutional attention. Culturally over the last \n",
      "decade we have witnessed a paradigmatic shift of meaning, purpose, scrutiny, and criminalization relating to hazing in general and more spe-cifically in sports.\n",
      "\n",
      "Group 3:\n",
      "As defined by Hoover (1999:8), hazing is “any activity expected of someone joining a group that humiliates, degrades, abuses or endangers, regardless of the person’s willingness to participate.” Ex-amples of typical hazing practices include: personal servitude; sleep deprivation and restrictions on personal hygiene; yelling, swearing, and insulting new members/rookies; being forced to wear embarrassing or humiliating attire in public; consumption of vile substances or smearing of such on one’s skin; brandings; physical beatings; binge drinking and drinking games; sexual simulation; sexual assault or death (Crow and Rosner 2002; Hoover 1999; Srabstein 2008). Several universities, including Vermont and McGill, have cancelled \n",
      "their men’s hockey and football seasons respectively in light of hazing incidents. Many institutions have implemented antihazing policies and most states criminalize hazing. Previously many acts of hazing were not prosecuted; it has only been in the last 10 years that more convictions for sexual assaults, assaults, forcible confinement, and manslaughter have resulted from hazing cases (Crow and MacIntosh 2009). Recent examples include: Anthony Clarke, a wide receiver for the Boise State football team and four others who were charged (December 2010) with forcible sexual penetration, battery, and false imprisonment of fellow athletes in Blackfoot, Idaho. Three former Carmel Indiana senior basket-ball players pled guilty in early January 2011 to assaulting two freshman players on a school bus as a part of their team hazing while returning from an away game (Nuwer, n.d.). a Comparative  analySiS  of CommunitaS  and riteS of paSSage      201\n",
      "Cultural rites of passage have been examined globally and socio-\n",
      "anthropologically. Examinations of contemporary sport underline the \n",
      "propensity for teams to confer membership on newcomers (also known as “rookies,” first years, initiates, recruits, pledges, neophytes, or novi-tiates) defined as uninitiated members in their first year on the team, through mandatory, formalized rite of passages, generally called initia -\n",
      "tions or hazing.\n",
      "\n",
      "Group 4:\n",
      "While sport initiations differ in some ways from his-torical or cultural rites, a shared characteristic of such rites is the “per -\n",
      "ceived” development of communitas. Victor Turner (1986:44) defines communitas as relationships among people, “jointly undergoing ritual transition” through which they can experience an intense sense of intim -\n",
      "acy and equality which can be spontaneous, immediate, and concrete. Many rationales exist for communities to maintain and construct \n",
      "entry rituals including the formation of communitas, identity, cohesion, status, and belonging, yet it is the articulated desire for membership that is the paramount tenet for both teams and traditional cultures (Co-\n",
      "hen 1964; Johnson 2000). However, “membership” also represents the chasm, which divides the basic structure of both of cultural and sporting communities. For example, consider Australian Aborigines or the Ndem-bu where negotiating the rite of passage confers a permanent change of status from that of boy to man in contrast to the more transient member -\n",
      "ship of sport initiations where an athlete’s career may span multiple sport teams or “communities.”\n",
      "This paper examines the function and practice of ritual sports hazing \n",
      "described by participants interviewed. Analytically I employ the three phases of transitional rites of passage as detailed by Van Gennep (1960) comparing the initiation rites of traditional, (primarily) all-male subcul-tures and sport initiation ceremonies. I argue that varsity sport initiation ceremonies and the initiation rituals of other, more ancient cultures are constructed and function in similar ways and articulate the goal of com-munitas as defined by Turner. However, sport initiations that rely upon practices of personal humiliation, degradation, and sexual acts actually prevent the expression of true communitas.\n",
      "\n"
     ]
    }
   ],
   "source": [
    "#This is where we use our functions on our pdf file to get our seperated text\n",
    "pdf_path = myPDF\n",
    "pdf_text = extract_text_from_pdf(pdf_path)\n",
    "paragraphs = break_into_paragraphs(pdf_text, sentences_per_group=8)\n",
    "print(f\"Number of sections: {len(paragraphs)}\\n\")\n",
    "\n",
    "# Print paragraphs (or a few if long text)\n",
    "if (len(paragraphs) < 8): \n",
    "    for idx, paragraph in enumerate(paragraphs):\n",
    "        print(f\"Group {idx + 1}:\\n{paragraph}\\n\")\n",
    "else:\n",
    "    for idx, paragraph in enumerate(paragraphs[:4]):\n",
    "        print(f\"Group {idx + 1}:\\n{paragraph}\\n\")\n",
    "    \n"
   ]
  },
  {
   "cell_type": "markdown",
   "id": "6fb00efc",
   "metadata": {},
   "source": [
    "## Calculate Price"
   ]
  },
  {
   "cell_type": "code",
   "execution_count": 6,
   "id": "39173569",
   "metadata": {},
   "outputs": [],
   "source": [
    "#This function calculates number of ChatGPT tokens for our text \n",
    "def num_tokens_from_string(string: str, encoding_name: str) -> int:\n",
    "    \"\"\"Returns the number of tokens in a text string.\"\"\"\n",
    "    encoding = tiktoken.get_encoding(encoding_name)\n",
    "    num_tokens = len(encoding.encode(string))\n",
    "    return num_tokens"
   ]
  },
  {
   "cell_type": "code",
   "execution_count": 7,
   "id": "b90edc1d",
   "metadata": {},
   "outputs": [],
   "source": [
    "#This function calculates the approximate price of using the model (in USD)\n",
    "def checkInputPrice(text): \n",
    "    tokenCount = num_tokens_from_string(text, \"cl100k_base\")\n",
    "    print(f\"The number of tokens in the given text is: {tokenCount}\")\n",
    "    price = (.001) * (tokenCount / 1000)\n",
    "    print(f\"The price for the following input text is: {price}\")"
   ]
  },
  {
   "cell_type": "code",
   "execution_count": 8,
   "id": "ff07793d",
   "metadata": {},
   "outputs": [
    {
     "name": "stdout",
     "output_type": "stream",
     "text": [
      "The number of tokens in the given text is: 17320\n",
      "The price for the following input text is: 0.017320000000000002\n"
     ]
    }
   ],
   "source": [
    "checkInputPrice(pdf_text)"
   ]
  },
  {
   "cell_type": "markdown",
   "id": "59edfb24",
   "metadata": {},
   "source": [
    "## Prompt ChatGPT to summarize each section and display result"
   ]
  },
  {
   "cell_type": "code",
   "execution_count": 9,
   "id": "8189eaed",
   "metadata": {},
   "outputs": [
    {
     "name": "stdout",
     "output_type": "stream",
     "text": [
      "1 The text discusses hazing rituals and ceremonies in various settings such as traditional cultures, schools, military, and sports. Student athletes often undergo hazing practices as a form of initiation for membership affiliation. Despite the abusive nature of hazing ceremonies in sports, there is still a demand for entry rituals to mark membership and identity within the team structure. The study compares contemporary initiations with historical traditions, highlighting the importance of establishing \"Rites of Passage\" for group membership. \n",
      "\n",
      "2 The section discusses the prevalence of hazing rituals and ceremonies in various cultures and institutions, including high schools, the military, private schools, and sports teams. Athletes often undergo hazing practices, with a high percentage reporting initiation into groups. The study compares contemporary initiations with historical traditions, highlighting the importance of rituals in establishing group membership. Despite the abusive nature of many hazing ceremonies, there is still a demand for initiation rituals to mark admission and identity within the team, although it can also negatively impact team relationships. \n",
      "\n",
      "3 The section discusses the definition of hazing as any activity that humiliates, degrades, abuses, or endangers individuals joining a group, regardless of their willingness to participate. It provides examples of hazing practices and mentions universities like Vermont and McGill canceling sports seasons due to hazing incidents. The text also highlights the implementation of anti-hazing policies and the criminalization of hazing in most states, with an increase in convictions for hazing-related offenses in recent years. Additionally, it touches on cultural rites of passage and the initiation of newcomers in sports teams through formalized hazing rituals. \n",
      "\n",
      "4 The text discusses the similarities between sport initiations and historical or cultural rites, focusing on the development of communitas, as defined by Victor Turner. It highlights the importance of entry rituals in maintaining community identity, cohesion, and belonging. The paper examines the function of ritual sports hazing and compares it to traditional rites of passage, arguing that true communitas is hindered by practices of humiliation and degradation in sport initiations. \n",
      "\n",
      "5 The section discusses the benefits of positive initiation ceremonies in sports and the potential for alternatives to traditional hazing practices, such as outdoor adventures. It highlights the differences in hazing laws and policies between Canada and the United States, with forty-four states in the US having antihazing laws. The section also points out the need for research on gender and hazing in sports, as sociologists have only recently started to explore the significance of hazing rituals for girls and women. \n",
      "\n",
      "6 The text discusses the gender differences in hazing activities, noting that hazing among men tends to be more violent while hazing among women is more psychological/emotional. However, recent cases have shown a shift in this trend, with girls and women also engaging in abusive hazing. The increase in girls and women participating in traditionally male sports has led to a rise in hazing incidents in women's sports. The continuation of harmful initiation practices is influenced by various factors such as alcohol, secrecy, hierarchy, gender, tradition, and masculinity. \n",
      "\n",
      "7 The text discusses initiation ceremonies, particularly in sports, as a way to forge strong bonds among members but also highlights the abusive nature of hazing rituals. It mentions that initiations can be traumatizing and discouraging for newcomers, with victims often downplaying their experiences. The text also touches on the hierarchical structure within groups and the reinforcement of masculinity through these rites of passage. Additionally, it notes the presence of misogyny and homoeroticism in hazing practices to enforce heterosexual identities. \n",
      "\n",
      "8 The text discusses transformative rites of passage found in various societies, often involving ceremonies that may seem barbaric and abusive in everyday life. These rituals are meant to mark the transition to full social membership. Arnold Van Gennep's work on initiation rituals, along with Victor Turner's three-phase model, provide a framework for understanding modern-day rites of passage, including those in sports and male socializing institutions. The central theme of most initiation rites is the change in identity, with the subject undergoing a transformation from an immature child to an adult through a process of destruction and resurrection. \n",
      "\n",
      "9 The text discusses Van Gennep's theory of the three phases of a rite of passage: separation, transition, and incorporation. During the separation phase, individuals experience a disconnection from their previous identity and may be given a new name symbolizing their new identity. This new name is often considered sacred and reserved for those who have undergone the initiation rite, such as in fraternities, the military, and sports. The changing of a person's name signifies a change in their true existence and marks their transition into a new phase of life. \n",
      "\n",
      "10 During the pre-initiation phase, rookies are separated from veterans and told exaggerated stories to create anxiety about the upcoming initiation phase. The liminal/transition phase, also known as the hazing phase, involves the symbolic death of the initiate's former identity and their entry into a transitional phase. During this time, novitiates undergo hazing and tests of fortitude to homogenize the group and emphasize their shared experience, fostering a sense of camaraderie and investment in each other. This phase is crucial in preparing the novitiates for their post-initiation identity and the culture they are entering. \n",
      "\n",
      "11 The section discusses the traditional cultural rites overseen by elders during the initiation phase, where neophytes are admitted into a social/cultural hierarchy. Academic studies have shown that coaches and alumni are active participants in sport initiation ceremonies. The Integration/Incorporation phase follows successful initiation, where new members are welcomed into the social group and cultural elements are transferred to them. This phase involves hazing, tests of fortitude, and other rituals that signal the values and hierarchy of the society, ultimately redefining the participants' existence. \n",
      "\n",
      "12 The text discusses the three phases of cultural and sport rites, which have been studied in various contexts such as police academies, military, youth subcultures, and athletic culture. These phases align with the concept of initiation outlined by Van Gennep. Some initiates undergo physical ordeals like circumcision or scarification as part of their rite of passage. The three phases are preinitiation anxiety, initiation/hazing experience, and temporary membership in a sport context. \n",
      "\n",
      "13 The text discusses various forms of hazing practices, including scarification, enduring tests of fortitude, and abuse, that are commonly used by sports teams, fraternities, and the military. Circumcision and subincision are highlighted as important parts of cultural rites of passage, serving as diplomas or marks of distinction. Pain and violence are often used in initiation rituals to create a sense of belonging and closer bonds among participants in organizations like the military, sport, police, and fraternal orders. These practices are based on a strict hierarchical structure within these groups. \n",
      "\n",
      "14 The section discusses how genital modifications, hazings, and other forms of abuse create vulnerability and dependence on the group for support. Initiation rites are seen as crucial for socialization and ensuring new members respect tradition. Durkheim's theory highlights the importance of rituals in fostering a sense of belonging and unity. Athletes often view initiation ceremonies as a team bonding experience that marks their transition into a group. \n",
      "\n",
      "15 The text discusses how initiation ceremonies help in forging new bonds and identities by facilitating a sense of belonging among athletes. It emphasizes the importance of athletes having an invested interest in pursuing membership and having their identity validated. The initiation process helps resolve the state of flux between identities for new initiates and also allows returning team members to express power and status over rookies. However, there is a danger that the cycle of violence or abuse can become attached to the ritual of belonging, making hazing seem necessary for team membership. \n",
      "\n",
      "16 The text discusses the importance of the separation between the profane and the sacred in rituals, emphasizing the effectiveness of rituals that take place outside of regular time and space criteria. In the context of varsity or university sports, initiation ceremonies serve as rites of passage for rookies transitioning from high school to university, symbolizing the move from outsider to insider in both sporting and academic realms. While bonds of membership in sports teams are transient compared to other life transitions, such as childhood to adulthood or singlehood to marriage, athletes on varsity squads may play for varying lengths of time, from one to five years. \n",
      "\n",
      "17 The text discusses the built-in lifespan of identities for varsity athletes, teams, and programs due to turnovers of players, coaches, and administrators. Unlike other group memberships, team membership is granted before initiations take place through try-outs and selection by coaches or senior team members. The text highlights that even skilled players will eventually have to retire from their team and sport, emphasizing the flexibility and differences in team membership compared to traditional cultural rites of passage. \n",
      "\n",
      "18 The text discusses how official membership on a sports team is determined before the initiation ceremony, which plays a significant role in forming and destroying identities, especially in sports. It highlights the interdependence between individuals and the group during this transitional experience. Victor Turner's concept of \"communitas\" is explained as an unstructured community where individuals submit to the authority of elders during rituals, breaking through structured norms. A study on hazing and perceived group cohesion showed that appropriate team building behaviors led to a more socially cohesive team, as expected. \n",
      "\n",
      "19 The text discusses how hazing activities in sports teams can actually lead to less team cohesion, contradicting the belief that hazing builds team unity. The research methodology used in the study involves qualitative research, which aims to provide in-depth and detailed descriptions of the participants' experiences. Participants were selected from teams that had previously initiated first-year players and were invited to a two-day orientation. \n",
      "\n",
      "20 The section discusses the orientations designed to introduce teams to nontraditional team building activities like rock climbing. Athletes and coaches were identified for potential interviews using mixed purposeful sampling. The researcher used purposive sampling to select varsity student-athletes or coaches with previous hazing experience, ensuring a balance of men and women and representation from various teams. Additionally, convenience sampling was included as participants were asked after the completion of the orientation event, with sixteen Canadian varsity athletes participating in the study. \n",
      "\n",
      "21 The section describes a study involving sixteen athletes and six coaches who participated in a weekend orientation in northern Ontario, Canada. The athletes were from various sports teams and ranged in age from 19 to 26, while the coaches were between 34 and 53 years old. Most participants were undergraduates, identified as \"white,\" and had at least two years of experience with their teams. Data was collected through qualitative one-on-one interviews after obtaining approval from the Human Subjects and Institutional Review Board. \n",
      "\n",
      "22 The text describes the methodology of conducting in-depth semi-structured interviews following Corbin and Strauss (2008). The interviews were guided to elicit systematic information from participants and explore various topics. Data from the interviews was transcribed, coded using open, axial, and selective coding, and compared to identify themes. This process allowed for a comparative analysis of community and rites of passage. \n",
      "\n",
      "23 The text discusses the use of \"hurricane thinking\" to analyze data and construct major themes with sub-sections related to the central theme. Multiple coding was used to reduce investigator bias and ensure qualitative inter reliability. Two experts in qualitative research were involved to ensure reliability, validity, triangulation, and consistency of the results. The section highlights the importance of hazing ritual expectations and the belief in the necessity of initiation for unifying a group. \n",
      "\n",
      "24 The text discusses how rites of passage, despite being sometimes seen as stupid or ugly, are crucial for new team members to go through in order to unite and differentiate themselves. Manny emphasizes the importance of a common ritual that all members must endure to define the team. While he acknowledges the necessity of humbling experiences for rookies, he believes there are alternative ways to achieve this goal. \n",
      "\n",
      "25 The section discusses the importance of humbling rookies in sports teams out of respect for veteran players. Dimitri believes that initiation ceremonies help establish team hierarchy and deflate egos of new players. Stella sees these ceremonies as a way to kickstart team potential and growth. It is crucial to blend the team together quickly to start performing well within a short period of time. \n",
      "\n",
      "26 The text discusses the ritual of hazing in varsity sports teams, where players come together, experience unity, and then focus on their individuality. This ritual is recognized and supported by the larger sporting community, not just the players. The absence of an entry ceremony can impact team dynamics, as illustrated by Matthew's feeling of not belonging due to lack of a welcoming ceremony. The education on hazing transcends levels within the team, from newcomers to coaches and administration. \n",
      "\n",
      "27 The section discusses the lack of formal introduction and team interaction, particularly among rookies who are expected to be held accountable for their actions. The author emphasizes that being a first-year player does not excuse them from responsibilities such as picking up equipment or cleaning the bus. Those who fail to fulfill their duties are reprimanded and told that such behavior is not acceptable. The author also mentions the challenge of enforcing consequences for non-compliance with team expectations. \n",
      "\n",
      "28 Ted and Sara both felt that the power dynamics within their team had shifted due to the discontinuation of the hazing ritual. Ted believed that reestablishing this ritual was necessary to redefine the hierarchy between rookies and veterans. Sara expressed that without an initiation, the team lacked unity and cohesion, leading to smaller subgroups forming within the larger group. This lack of initiation resulted in a cliquey atmosphere where team members did not socialize outside of playing together, ultimately affecting the sense of team spirit. \n",
      "\n",
      "29 The section discusses how athletes were interviewed about the initiation of first-year players, with some being told to \"tone it down\" or do nothing, leading to a sense of disjointedness within the group. The athletes recognized the risks and dangers of traditional hazing practices and how initiation ceremonies help maintain consensus in social/cultural orders. Threats of humiliation or ostracism ensure that these rituals are not challenged or exposed. \n",
      "\n",
      "30 The text discusses how the threat of ostracization through humiliation and degradation has historically been used to maintain compliance in initiation practices and order within communities. Novitiates often struggle to refuse brutal, dangerous, or illegal demands from veterans due to force and coercion. Compliance helps create solidarity and silence dissent within the community. The physical and psychological ordeals faced during the hazing stage are described as the \"sadistic side of the human imagination\" and have been seen in sport hazing events. \n",
      "\n",
      "31 The section describes instances of brutal hazing rituals experienced by a person named Manny during his rookie initiation in high school. These rituals involved humiliation, abuse of power, and fear tactics by the veterans. Manny now reflects on these experiences with horror and disgust, realizing the wrongness of his acquiescence to their demands. The hazing rituals served to establish a hierarchy where initiates were made to feel inferior to the veterans through fear and intimidation. \n",
      "\n",
      "32 The text discusses how senior members often exaggerate potential events to incoming recruits to emphasize the severity of initiation ceremonies. This exaggeration can actually provide relief to new members when they realize the ceremony is not as traumatic as described. Despite fears and pre-initiation anxiety from media and folklore, athletes still participate in hazing rituals. The narrator, while initially apprehensive, found the initiation experience to be less extreme than anticipated. \n",
      "\n",
      "33 The section discusses the discrepancy between the anticipation of initiation rituals and the actual experience, with some individuals expecting more intense hazing based on media accounts and cultural norms. It highlights how avoiding initiation in traditional contexts is not usually an option, but in sports, some may choose to opt out due to threats and folklore. The reaction to compliance with initiation rituals varies based on skill level, with highly skilled athletes facing fewer complications for refusing to participate. Overall, the section explores the impact of initiation ceremonies on team dynamics and individual experiences. \n",
      "\n",
      "34 The text discusses the dynamics of establishing superiority and hierarchy within sports teams, particularly between veteran players and rookies. It highlights the initiation rituals and hazing practices that are seen as a way to acculturate new members and create a sense of belonging. However, this behavior can lead to resentment and perpetuate a culture of subordination. The connection to a larger cultural tradition of hazing in athletic communities is also emphasized. \n",
      "\n",
      "35 The section discusses the concept of hazing within groups and how it perpetuates the status quo by creating a cycle of cultural transfer that allows problematic behaviors to persist unchecked. While the goal of initiations is to create community spirit and equality among members, modern hazing practices often involve power imbalances and abuse. The process aims to break down individuals to rebuild them according to the group's hierarchy, reinforcing the veterans' power over rookies both physically and mentally. \n",
      "\n",
      "36 The section discusses how previous studies suggested that severe initiations could strengthen bonds, but more recent research indicates that hazing can lead to mistrust of leadership. This mistrust is believed to stem from a clash of values in contemporary Western society. Failure to adopt new values can create resentment between initiates and initiators, disrupting the established hierarchy. Traditional forms of hazing may not foster trust due to the hostility and individual humiliation involved. The concept of communitas is often used to justify sport initiation ceremonies. \n",
      "\n",
      "37 The text discusses the importance of teammates' support and acceptance for athletes to fully enjoy their varsity experience. It emphasizes that without acceptance, players cannot be fully immersed in the team community, hindering the development of unity and equality. The text also highlights the need for successful initiation processes that educate new members and foster connections within the organization. Additionally, it mentions the importance of eradicating hierarchical structures and labels to ensure all members feel accepted and free from abuse and harassment. \n",
      "\n",
      "38 The section discusses how a more inclusive and supportive approach to initiation ceremonies in sports teams has replaced traditional hazing practices. The event highlighted the importance of veterans and rookies supporting each other, rather than hoping for failure. Respondents noted the effectiveness of the orientation ceremony in creating a welcoming and bonding space, while also acknowledging its limitations in fully replacing traditional hazing practices. Overall, the orientation ceremony was seen as a more positive and effective way to integrate new members into the team without negative feelings towards veteran players. \n",
      "\n",
      "39 The text discusses the difference between hazing practices and Orientation Camp for new team members. Dimitri highlights the positive environment and lack of coercion at Orientation Camp, leading to stronger bonds without negative effects. Andrew emphasizes the potential dangers of traditional hazing rituals, which can lead to negative feelings and animosity. Both players agree on the importance of establishing strong bonds through initiation experiences. \n",
      "\n",
      "40 The text discusses how traditional forms of hazing in sports teams can lead to tension and resentment between veteran players and rookies. It highlights how mistreatment of rookies can create a divide within the team, with first-year players forming a stronger bond among themselves. The text emphasizes the importance of orientation programs that promote unity among all team members, shifting away from hazing rituals rooted in degradation and mistrust. This cultural shift aims to create a more inclusive and supportive team environment. \n",
      "\n",
      "41 The text discusses the value of initiation ceremonies for athletes and suggests that an alternative approach can be more effective in fostering camaraderie among team members. By replacing brutal initiation rituals with a more neutralizing and friendly orientation, the cycle of degradation and pain can be broken. The comparison between traditional coercion-based initiation and a more respectful approach highlights the importance of trust and camaraderie in team dynamics. Ultimately, the text emphasizes the potential for a more positive and inclusive initiation process for new team members. \n",
      "\n",
      "42 The text discusses the contrasting views on hazing within athletic teams, with some arguing that traditional forms of hazing do not establish trust and can lead to hostility and grudges. It is suggested that removing negative aspects of hazing may not benefit the team, but severe initiation can harm team integrity. The text also highlights the negative effects of hazing, describing it as dysfunctional, violent, and traumatizing. \n",
      "\n",
      "43 The section discusses the importance of initiation in organizations to help new members feel a sense of belonging and integrate into the group. It highlights how initiation ceremonies personalize individuals and showcase their value within the team, ultimately strengthening the bond between new and established members. The text also emphasizes how initiation rituals serve as a transitional experience for new members, symbolizing their shift from being outsiders to fully integrated members of the organization. Overall, the section underscores the significance of initiation in maintaining the organization's culture and ensuring continuity through new members. \n",
      "\n",
      "44 The text discusses the differences between contemporary and cultural rites of passage, particularly focusing on how modern ceremonies have incorporated humiliation and degradation. It highlights how hazing rituals in some subcultures impose excessive demands on new members, leading to conformity but also causing fractures within the group. The initiation ceremony in sports is also mentioned as a way for identity formation and community bonding among team members of all levels. \n",
      "\n",
      "45 The section discusses how junior players in a team are now responsible for creating and carrying out initiation rituals for new members, marking a transition to a veteran role. This process allows senior members to establish their leadership and status within the team hierarchy. Initiation activities, including hazing, are seen as a way to build unity and cohesion within the group, despite controversial practices like beatings or public nudity. Overall, the initiation process aims to foster a sense of togetherness and belonging among team members. \n",
      "\n",
      "46 The section discusses the concept of initiation and hazing within groups, highlighting how these experiences can create a sense of commonality among participants. However, it also emphasizes the negative impact of abusive hazing practices, which can lead to long-term consequences and erode team relationships. While communitas, or group unity, is the desired outcome of modern and cultural initiations, some rituals continue to rely on abusive and degrading traditions that hinder true development of communitas. Modern rituals have shifted towards actively incorporating degradation as a key component, deviating from traditional practices where degradation was a consequence of noncompliance. \n",
      "\n",
      "47 The text discusses how degrading hazing practices in sports can actually create division among group members, despite the belief that hazing brings people together. These activities lead to compliance and maintain cultural order by discouraging sharing of humiliating experiences. Modern initiations involving humiliation and abuse result in resentment, division, and mistrust, restricting initiates' abilities to act independently. Overall, hazing is shown to be exclusive, inequitable, destabilizing, and abusive, contrasting with the idea of communitas. \n",
      "\n",
      "48 The section discusses the initiation ceremony in a sporting context, highlighting how it plays a role in identity formation for both new initiates and established team members. It explains how junior players transition into veteran roles through the responsibility of organizing the initiation ritual, allowing them to establish themselves as team leaders. The initiation also serves as a way for senior members to assert their power and status over rookies, potentially leading to the expression of past grievances or feelings of dominance. Overall, the initiation process is a transformative opportunity for team members to solidify their roles within the team hierarchy. \n",
      "\n",
      "49 The text discusses how cohesion and community can be achieved through alternative orientations in sports teams, leading to a change in the nature of rookie parties. Initiates were no longer pressured or humiliated during these events, as athletes saw them as individuals rather than just rookies. This shift towards inclusion and true community contrasts with contemporary sport team initiations that focus on humiliation. The unifying principle of these ceremonies is questioned, as they often revolve around abuse and the promise of power and status. \n",
      "\n",
      "50 The section discusses the importance of successful initiations in achieving unity within a group by educating new members, fostering connections, and creating a sense of commonality. Initiations such as preseason training, maintaining a specific grade point average, and participating in team activities like community service or skit nights can help in developing this unity. The text also references a study on hazing among college students by Allan and Madden, highlighting the risks associated with certain initiation practices. \n",
      "\n",
      "51 The section discusses the topic of gender and hazing, specifically analyzing its implications. It references a book edited by H. Nuwer called \"The Hazing Reader\" which examines hazing in various settings such as fraternities, athletics, high schools, and the military. Additionally, it mentions a study by Aronson and Mills from 1959 that looked at how the severity of initiation impacts one's liking for a group. \n",
      "\n",
      "52 The section mentions references to two studies: one by Baumeister and Leary in 1995 on the desire for interpersonal attachments as a fundamental human motivation, and another by Beccaria and Sande. Baumeister and Leary's study explores the need to belong as a key human motivation, while Beccaria and Sande's study is not further elaborated upon in the summary. These studies likely delve into the psychological aspects of human relationships and the importance of social connections. \n",
      "\n",
      "53 The section discusses a comparison of the meaning and functions of young people's use of alcohol during the transition to adulthood in Italy and Norway. It also mentions a study on hazing in sports, specifically looking at veteran/rookie relationships. The research was conducted by Bryshun and Young, with Bryshun also having an unpublished master's thesis on the topic. \n",
      "\n",
      "54 The section discusses sport-related hazing, focusing on male and female involvement. It is part of a larger publication on Sport and Gender in Canada. The authors Campo, Poulos, and Sipple conducted a study in 2005 on the prevalence and profiling of hazing among college students, highlighting potential points of intervention. The research sheds light on the issue of hazing in sports and provides insights for addressing this harmful practice. \n",
      "\n",
      "55 The section discusses gender differences in coaches' perceptions of hazing in intercollegiate athletics, as highlighted in the American Journal of Health Behavior. The topic is further explored in the book \"Making the Team: Inside the World of Sport Initiations and Hazing\" edited by J. Johnson and M. Holman. Additionally, Cohen's work from 1964, \"Inside the Tribal Initiation,\" is referenced in the text. \n",
      "\n",
      "56 The section discusses two academic sources: \"Masculinities, change and conflict in global society\" by R.W. Connell and \"Grounded theory research: Procedures, canons and evaluative criteria\" by J. Corbin and A. Strauss. The first source explores the future of men's studies in a changing world, while the second focuses on the methodology of grounded theory research. These sources provide valuable insights into the study of masculinity and research methods. \n",
      "\n",
      "57 The section provides a citation for a book titled \"Basics of Qualitative Research\" by Crow and MacIntosh, which is in its third edition. The book is published by Sage in Los Angeles. It is likely a foundational text in the field of qualitative sociology, offering essential information and guidance on conducting qualitative research. \n",
      "\n",
      "58 The section discusses the conceptualization of a meaningful definition of hazing in sport, as well as the institutional and organizational liability for hazing in intercollegiate and professional team sports. The European Sport Management Quarterly and St. John's Law Review are referenced as sources for further information on the topic. The importance of understanding and addressing hazing in sports is highlighted in these academic publications. \n",
      "\n",
      "59 The section mentions two books: \"The Sage Handbook of Qualitative Research\" edited by Denzin and Lincoln in 2005, and \"Eliade\" by M. Eliade in 1975. The first book is a comprehensive guide to qualitative research, while the second book is authored by M. Eliade. Both books likely provide valuable insights and information on their respective topics. \n",
      "\n",
      "60 The section discusses the rites and symbols of initiations and the mysteries of birth and rebirth. It references a book titled \"Rites and Symbols of Initiations and the Mysteries of Birth and Rebirth\" by Fields, Collins, and Comstock. Additionally, it mentions a study on violence in youth sports, specifically hazing, brawling, and foul play, published in the British Journal of Sports Medicine. \n",
      "\n",
      "61 The section mentions various sources related to educational research and face-to-face behavior. It includes a book by Gall, Borg, and Gall from 1996 titled \"Educational Research: An Introduction\" and another book by Goffman from 1967 called \"Interaction Ritual: Essays on Face-to-Face Behavior.\" Additionally, it references a book by Holman from 2004. These sources likely provide insights into the field of educational research and human interaction in face-to-face settings. \n",
      "\n",
      "62 The section discusses a search for a theoretical understanding of hazing practices in athletics, as outlined in the book \"Making the Team: Inside the World of Sport Initiations and Hazing\" edited by J. Johnson and M. Holman. It references a national survey conducted by Hoover in 1999 on initiation rites and athletics for NCAA sports teams, as well as a survey in 2000 by Hoover and Pollard on initiation rites in American high schools. The focus is on exploring the prevalence and nature of hazing practices in sports teams and high schools. \n",
      "\n",
      "63 The section discusses a comparative analysis of community and rites of passage, referencing a study retrieved from a specific website. It also mentions two specific sources: \"The Boys in the Barracks\" by L.H. Ingraham in 1984, which observes American military life, and a study by J. Johnson in 2000 on sport hazing in the context of anti-hazing policies at two universities in southern Ontario. \n",
      "\n",
      "64 The section discusses two academic works by an author from the University of Toronto. The first work, a master's thesis from 2002, explores gender and the sport initiation ceremony. The second work, an unpublished PhD from 2007, examines the effectiveness of orientations as a substitute for traditional hazing practices. Both works focus on gender dynamics and alternative approaches to initiation rituals in sports. \n",
      "\n",
      "65 The section discusses two different studies related to the role of coaches in team unity and cohesion, as well as hazing policies in sports. The first study focuses on the impact of coaches on team dynamics, while the second study explores the perspectives of athletic administrators, coaches, and athletes on hazing policy initiatives. Both studies provide insights into the importance of coaching and the challenges surrounding hazing in sports. \n",
      "\n",
      "66 The section discusses two academic articles related to initiation/hazing and sexual abuse in sports. The first article by Kirby and Wintrup examines the concept of initiation/hazing and its connection to sexual abuse in sports. The second article by Lenskyj analyzes the relationship between sex and violence in hazing practices within the sports context. Both articles shed light on the dark side of sports culture and the need for further research and awareness on these issues. \n",
      "\n",
      "67 The section discusses the topic of sport initiations and hazing, as explored in the book \"Making the Team: Inside the World of Sport Initiations and Hazing\" edited by J. Johnson and M. Holman. It also references a study on the shaping of Brazilian military police recruits through hazing, conducted by Linhares de Albuquerque and Paes-Machado. Additionally, it mentions the work of Marshall on this subject. \n",
      "\n",
      "68 The section mentions two articles: \"Behavior, belonging, and belief: A theory of ritual practice\" and \"Rigour and qualitative research\". The first article discusses the relationship between behavior, belonging, and belief in ritual practices, while the second article focuses on the importance of rigor in qualitative research. The authors of the articles are Mays, Pope, McMillan, and Schumacher. These articles likely provide insights into sociological theory and research methodology. \n",
      "\n",
      "69 The section mentions a research publication titled \"Research in Education: Evidence Based Inquiry\" by Meyer in 2005. It also references another study by Meyer in 2000 titled \"The ropes and challenge course: A quasi-experimental examination\" published in the journal Perceptual and Motor Skills. Meyer's research likely focuses on education and the effectiveness of challenge courses in improving perceptual and motor skills. \n",
      "\n",
      "70 The section provides references to works by Hank Nuwer, including \"Wrongs of Passage\" and a chapter on how sportswriters contribute to hazing culture in athletics. The author's research delves into the world of sport initiations and hazing, shedding light on the harmful practices that exist within athletic teams. Nuwer's work highlights the need for awareness and prevention of hazing in sports. \n",
      "\n",
      "71 The section discusses high school hazing and provides references to further reading on the topic. It mentions a book by Patton on qualitative evaluation and research methods, as well as a book by Pinnock on gangs, rituals, and rites of passage. These resources may offer insights into the dynamics and implications of hazing practices in high schools. \n",
      "\n",
      "72 The section discusses the topics of trauma and adolescent rites of initiation, as well as hazing in the context of sports teams. It references a paper presented at a meeting for adolescent psychiatry trauma and a story on hazing from a book about sport initiations. The text likely explores the psychological impact of traumatic experiences during adolescence and the prevalence of hazing rituals in sports teams. \n",
      "\n",
      "73 The section mentions two sources: Srabstein's study on deaths related to bullying and hazing, and Turner's book \"The Ritual Process.\" Srabstein's study focuses on the serious consequences of bullying and hazing, particularly in adolescents. Turner's book explores the concept of rituals and their significance in society. Both sources likely provide valuable insights into the impact of harmful behaviors and the role of rituals in human culture. \n",
      "\n",
      "74 The section mentions various academic works related to religious symbols, poverty, and the anthropology of experience. It includes references to articles on the religious symbols of community, the anthropology of experience, and the phenomenon of gay bashing as a rite of passage. These works likely explore the significance of these topics within different cultural contexts and social dynamics. \n",
      "\n",
      "75 The section references two key sources: \"The Rites of Passage\" by Van Gennep and \"People processing: Strategies of organizational socialization\" by Van Maanen. These sources likely discuss topics related to culture, health, sexuality, and organizational socialization. The section provides a glimpse into the scholarly works that may offer insights into these areas of study. \n",
      "\n",
      "76 The section discusses the relationship between hazing and team cohesion in sports teams. The authors Van Raalte, Cornelius, Linder, and Brewer explore this relationship in their study published in the Journal of Sport Behavior. Additionally, Waldron and Kowalski are also mentioned in the context of organizational dynamics. The text likely delves into the impact of hazing on team dynamics and cohesion within sports teams. \n",
      "\n",
      "77 The section discusses various studies and publications related to rites of passage and group bonding in different contexts. It includes references to works such as \"Crossing the Line: Rites of Passage\" and \"Rites of passage and group bonding in the Canadian airborne.\" Additionally, it mentions a study on how peer leadership affects hazing in non-revenue generating college athletics. These works likely explore the significance of rituals and group dynamics in different social settings. \n",
      "\n",
      "78 The section discusses Dr. Jay Johnson, an assistant professor at San José State University with a doctoral degree in education, sociology, and equity studies from the University of Toronto. His interdisciplinary research focuses on child labor issues, body fascism of triathletes, doping knowledge of elite female triathletes, and the impact of climatic change on physical experiences. Dr. Johnson has published extensively on initiation and hazing practices in varsity sports, body-based harassment effects on body image, and participation in physical activity. He also serves as the editor of The Journal of Sport, Physical Activity, Body, and the Environment. \n",
      "\n"
     ]
    }
   ],
   "source": [
    "#This is where we give the model our prompt and feed it each section individually\n",
    "totalResponse = \"\"\n",
    "for i in range(len(paragraphs)):\n",
    "    prompt = f\"\"\"\n",
    "    Your task is to generate a short summary of the text, \\ \n",
    "    capturing the main ideas and important information. Your \\\n",
    "    goal is to provide a clear understanding to someone \\\n",
    "    who hasn't read the text, ensuring they grasp the main \\\n",
    "    points and crucial details.\n",
    "\n",
    "    Summarize the section below, delimited by triple \\\n",
    "    backticks in at most 4 sentences. \n",
    "\n",
    "    section: ```{paragraphs[i]}```\n",
    "    \"\"\"\n",
    "\n",
    "    response = get_completion(prompt)\n",
    "    print(i + 1, response, \"\\n\")\n",
    "    totalResponse += response + \"\\n\"\n"
   ]
  },
  {
   "cell_type": "markdown",
   "id": "144a6ea0",
   "metadata": {},
   "source": [
    "## Combine all summaries into single summary"
   ]
  },
  {
   "cell_type": "code",
   "execution_count": 10,
   "id": "e4b5cb53",
   "metadata": {},
   "outputs": [
    {
     "name": "stdout",
     "output_type": "stream",
     "text": [
      "7160\n"
     ]
    }
   ],
   "source": [
    "#First we check that we are within token limit for responses\n",
    "finalTokenCount = num_tokens_from_string(totalResponse, \"cl100k_base\")\n",
    "print(finalTokenCount)"
   ]
  },
  {
   "cell_type": "code",
   "execution_count": 11,
   "id": "6e6984f2",
   "metadata": {},
   "outputs": [
    {
     "name": "stdout",
     "output_type": "stream",
     "text": [
      "- The text explores hazing rituals and ceremonies in various settings such as traditional cultures, schools, military, and sports.\n",
      "- Student athletes often undergo hazing practices as a form of initiation for membership affiliation.\n",
      "- Despite the abusive nature of hazing ceremonies in sports, there is still a demand for entry rituals to mark membership and identity within the team structure.\n",
      "- The study compares contemporary initiations with historical traditions, emphasizing the importance of establishing \"Rites of Passage\" for group membership.\n",
      "- Hazing rituals and ceremonies are prevalent in various cultures and institutions, including high schools, the military, private schools, and sports teams.\n",
      "- The text discusses the definition of hazing as any activity that humiliates, degrades, abuses, or endangers individuals joining a group.\n",
      "- There is an increase in convictions for hazing-related offenses in recent years, leading to the implementation of anti-hazing policies and laws in most states.\n",
      "- The text also touches on the gender differences in hazing activities, noting a shift in trends with girls and women also engaging in abusive hazing practices.\n",
      "- Initiation ceremonies in sports are seen as a way to forge strong bonds among members but also highlight the abusive nature of hazing rituals.\n",
      "- The text emphasizes the importance of successful initiation processes that educate new members and foster connections within the organization while eradicating hierarchical structures and labels to ensure all members feel accepted and free from abuse and harassment. \n",
      "\n",
      "- The text discusses how mistreatment of rookies in sports teams can create a divide within the team, leading first-year players to form a stronger bond among themselves.\n",
      "- It emphasizes the importance of orientation programs that promote unity among all team members, moving away from hazing rituals rooted in degradation and mistrust.\n",
      "- The cultural shift aims to create a more inclusive and supportive team environment by replacing brutal initiation rituals with a more neutral and friendly orientation.\n",
      "- The comparison between traditional coercion-based initiation and a more respectful approach highlights the importance of trust and camaraderie in team dynamics.\n",
      "- The text underscores the potential for a more positive and inclusive initiation process for new team members.\n",
      "- It discusses the contrasting views on hazing within athletic teams, with some arguing that traditional hazing does not establish trust and can lead to hostility and grudges.\n",
      "- The negative effects of hazing are highlighted, describing it as dysfunctional, violent, and traumatizing.\n",
      "- The importance of initiation ceremonies in organizations to help new members feel a sense of belonging and integrate into the group is discussed.\n",
      "- The initiation process in sports is seen as a way for identity formation and community bonding among team members of all levels.\n",
      "- Overall, the text emphasizes the significance of initiation in maintaining the organization's culture and ensuring continuity through new members. \n",
      "\n"
     ]
    }
   ],
   "source": [
    "#If we are not within token limit, we will have to output multiple summaries\n",
    "if finalTokenCount > 4000:\n",
    "    finalText = break_into_paragraphs(totalResponse, sentences_per_group= 150)\n",
    "    for i in range(len(finalText)):\n",
    "        #Now we combine all of the summaries into a few general summaries of the entire text\n",
    "        sumPrompt = f\"\"\"\n",
    "            Your task is to generate a short summary of the text, \\ \n",
    "            capturing the main ideas and important information. Your \\\n",
    "            goal is to provide a clear understanding to someone \\\n",
    "            who hasn't read the text, ensuring they grasp the main \\\n",
    "            points and crucial details. Make sure to include any necessary context.\n",
    "\n",
    "            The text is made up of previous summaries you have made. We want \\\n",
    "            to combine the summaries into one complete summary\n",
    "\n",
    "            Summarize the text below, delimited by triple \\\n",
    "            backticks in at most 10 sentences. Seperate each sentence in \\\n",
    "            the form of a bulleted list, with each bullet on a new line. \n",
    "\n",
    "            Text: ```{finalText[i]}```\n",
    "            \"\"\"\n",
    "\n",
    "        endSummary = get_completion(sumPrompt)\n",
    "        print(endSummary, \"\\n\")\n",
    "\n",
    "#If we are within token limit, we can output normally        \n",
    "else:\n",
    "    #Now we combine all of the summaries into one final general summary of the entire text\n",
    "    sumPrompt = f\"\"\"\n",
    "        Your task is to generate a short summary of the text, \\ \n",
    "        capturing the main ideas and important information. Your \\\n",
    "        goal is to provide a clear understanding to someone \\\n",
    "        who hasn't read the text, ensuring they grasp the main \\\n",
    "        points and crucial details. Make sure to include any necessary context.\n",
    "\n",
    "        The text is made up of previous summaries you have made. We want \\\n",
    "        to combine the summaries into one complete summary\n",
    "\n",
    "        Summarize the text below, delimited by triple \\\n",
    "        backticks in at most 10 sentences. Seperate each sentence in \\\n",
    "        the form of a bulleted list, with each bullet on a new line. \n",
    "\n",
    "        Text: ```{totalResponse}```\n",
    "        \"\"\"\n",
    "\n",
    "    endSummary = get_completion(sumPrompt)\n",
    "    print(endSummary, \"\\n\")\n"
   ]
  },
  {
   "cell_type": "markdown",
   "id": "8b8beed8",
   "metadata": {},
   "source": [
    "# We have successfully used ChatGPT to condense an article into a 10 bullet point summary! (Or more if the article is extremely long)"
   ]
  },
  {
   "cell_type": "code",
   "execution_count": null,
   "id": "4d3a19fa",
   "metadata": {},
   "outputs": [],
   "source": []
  }
 ],
 "metadata": {
  "kernelspec": {
   "display_name": "Python 3 (ipykernel)",
   "language": "python",
   "name": "python3"
  },
  "language_info": {
   "codemirror_mode": {
    "name": "ipython",
    "version": 3
   },
   "file_extension": ".py",
   "mimetype": "text/x-python",
   "name": "python",
   "nbconvert_exporter": "python",
   "pygments_lexer": "ipython3",
   "version": "3.10.12"
  }
 },
 "nbformat": 4,
 "nbformat_minor": 5
}
